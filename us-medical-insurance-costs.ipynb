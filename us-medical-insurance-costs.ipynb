{
 "cells": [
  {
   "cell_type": "markdown",
   "metadata": {},
   "source": [
    "# U.S. Medical Insurance Costs"
   ]
  },
  {
   "cell_type": "markdown",
   "metadata": {},
   "source": [
    "Goals of the project:\n",
    "1. Find out the average age of the patients in the dataset.\n",
    "2. Analyze where a majority of the individuals are from.\n",
    "3. Look at the different costs between smokers vs. non-smokers.\n",
    "4. Figure out what the average age is for someone who has at least one child in this dataset."
   ]
  },
  {
   "cell_type": "code",
   "execution_count": 2,
   "metadata": {},
   "outputs": [],
   "source": [
    "import csv"
   ]
  },
  {
   "cell_type": "code",
   "execution_count": 3,
   "metadata": {},
   "outputs": [],
   "source": [
    "#create lists according to columns\n",
    "age = []\n",
    "sex = []\n",
    "bmi = []\n",
    "children = []\n",
    "smoker = []\n",
    "region = []\n",
    "charges = []"
   ]
  },
  {
   "cell_type": "code",
   "execution_count": 4,
   "metadata": {},
   "outputs": [],
   "source": [
    "#fill in lists\n",
    "with open(r'C:\\Users\\zalex\\Documents\\Python\\python-portfolio-project-starter-files\\insurance.csv') as data_file:\n",
    "    data = csv.DictReader(data_file)\n",
    "    for i in data:\n",
    "        age.append(i['age'])\n",
    "        sex.append(i['sex'])\n",
    "        bmi.append(i['bmi'])\n",
    "        children.append(i['children'])\n",
    "        smoker.append(i['smoker'])\n",
    "        region.append(i['region'])\n",
    "        charges.append(i['charges'])\n",
    "    \n",
    "    "
   ]
  },
  {
   "cell_type": "code",
   "execution_count": 17,
   "metadata": {},
   "outputs": [],
   "source": [
    "#convert age, charges, children lists to integer or float\n",
    "age = [int(element) for element in age]\n",
    "charges = [float(element) for element in charges]\n",
    "children = [int(element) for element in children]"
   ]
  },
  {
   "cell_type": "markdown",
   "metadata": {},
   "source": [
    "# 1 Find out the average age of the patients"
   ]
  },
  {
   "cell_type": "code",
   "execution_count": 6,
   "metadata": {},
   "outputs": [
    {
     "name": "stdout",
     "output_type": "stream",
     "text": [
      "The average age of the patients in the dataset is 39.21\n"
     ]
    }
   ],
   "source": [
    "#1 find out the average age of the patients\n",
    "sum = 0\n",
    "for element in age:\n",
    "    sum += element\n",
    "\n",
    "count = len(age)\n",
    "    \n",
    "average_age = round(sum / count, 2)\n",
    "print(\"The average age of the patients in the dataset is \" + str(average_age))\n"
   ]
  },
  {
   "cell_type": "markdown",
   "metadata": {},
   "source": [
    "# 2 Analyze where a majority of the individuals are from"
   ]
  },
  {
   "cell_type": "code",
   "execution_count": 7,
   "metadata": {},
   "outputs": [
    {
     "name": "stdout",
     "output_type": "stream",
     "text": [
      "['southwest', 'southeast', 'northwest', 'northeast']\n"
     ]
    }
   ],
   "source": [
    "#2a find out what regions exist\n",
    "#create list with unique values\n",
    "unique_regions = []\n",
    "for element in region:\n",
    "    if element not in unique_regions:\n",
    "        unique_regions.append(element)\n",
    "print(unique_regions)"
   ]
  },
  {
   "cell_type": "code",
   "execution_count": 8,
   "metadata": {},
   "outputs": [
    {
     "name": "stdout",
     "output_type": "stream",
     "text": [
      "{'southwest': 325, 'southeast': 364, 'northwest': 325, 'northeast': 324}\n"
     ]
    }
   ],
   "source": [
    "#2b count repeating elements in the list\n",
    "counter = {element: region.count(element) for element in region}\n",
    "print(counter)"
   ]
  },
  {
   "cell_type": "code",
   "execution_count": 9,
   "metadata": {},
   "outputs": [
    {
     "name": "stdout",
     "output_type": "stream",
     "text": [
      "27.2%\n"
     ]
    }
   ],
   "source": [
    "SE = '{:.1%}'.format(region.count('southeast') / len(region))\n",
    "print(SE)\n"
   ]
  },
  {
   "cell_type": "code",
   "execution_count": 10,
   "metadata": {},
   "outputs": [
    {
     "name": "stdout",
     "output_type": "stream",
     "text": [
      "The majority of the individuals are from southeast. They are 27.2% of the dataset\n"
     ]
    }
   ],
   "source": [
    "inverse_counter = [(value, key) for key, value in counter.items()] \n",
    "\n",
    "print(\"The majority of the individuals are from \" + str(max(inverse_counter)[1]) + \". They are \" + str(SE) + \" of the dataset\")"
   ]
  },
  {
   "cell_type": "markdown",
   "metadata": {},
   "source": [
    "# 3 Compare the different costs between smokers vs non-smokers"
   ]
  },
  {
   "cell_type": "code",
   "execution_count": 11,
   "metadata": {},
   "outputs": [
    {
     "name": "stdout",
     "output_type": "stream",
     "text": [
      "8781763.52184\n",
      "8974061.468918996\n"
     ]
    }
   ],
   "source": [
    "#3a find out the total insurance costs for each category\n",
    "comparison = list(zip(smoker, charges))\n",
    "total_smoker = 0\n",
    "total_non_smoker = 0\n",
    "for x, y in comparison:\n",
    "    if x == 'yes':\n",
    "        total_smoker += y\n",
    "    else:\n",
    "        total_non_smoker += y\n",
    "print(total_smoker)\n",
    "print(total_non_smoker)\n",
    "            \n",
    "        \n",
    "        "
   ]
  },
  {
   "cell_type": "code",
   "execution_count": 12,
   "metadata": {},
   "outputs": [
    {
     "name": "stdout",
     "output_type": "stream",
     "text": [
      "274\n",
      "1064\n"
     ]
    }
   ],
   "source": [
    "#3b find out the count for each category\n",
    "count_smoker = smoker.count('yes')\n",
    "count_non_smoker = smoker.count('no')\n",
    "print(count_smoker)\n",
    "print(count_non_smoker)\n"
   ]
  },
  {
   "cell_type": "code",
   "execution_count": 13,
   "metadata": {},
   "outputs": [
    {
     "name": "stdout",
     "output_type": "stream",
     "text": [
      "32050.23\n",
      "8434.27\n"
     ]
    }
   ],
   "source": [
    "#3c find out average insurance costs for each category\n",
    "average_smoker = round(total_smoker / count_smoker, 2)\n",
    "average_non_smoker = round(total_non_smoker / count_non_smoker, 2)\n",
    "print(average_smoker)\n",
    "print(average_non_smoker)"
   ]
  },
  {
   "cell_type": "code",
   "execution_count": 14,
   "metadata": {},
   "outputs": [
    {
     "name": "stdout",
     "output_type": "stream",
     "text": [
      "Being a non-smoker is 3.8 times cheaper in terms of insurance costs then a smoker\n"
     ]
    }
   ],
   "source": [
    "#3d compare and make a conclusion\n",
    "benefit = round((total_smoker / count_smoker) / (total_non_smoker / count_non_smoker), 2)\n",
    "print(\"Being a non-smoker is \" + str(benefit) + \" times cheaper in terms of insurance costs then a smoker\")"
   ]
  },
  {
   "cell_type": "markdown",
   "metadata": {},
   "source": [
    "# 4 Figure out what the average age is for someone who has at least one child in this dataset"
   ]
  },
  {
   "cell_type": "code",
   "execution_count": 22,
   "metadata": {},
   "outputs": [
    {
     "name": "stdout",
     "output_type": "stream",
     "text": [
      "The average age for someone who has at least one child is 39.78\n"
     ]
    }
   ],
   "source": [
    "#4 find out the total insurance costs for each category\n",
    "zipped = list(zip(age, children))\n",
    "total_with_childs = 0\n",
    "total_age = 0\n",
    "for x, y in zipped:\n",
    "    if y >= 1:\n",
    "        total_with_childs += 1\n",
    "        total_age += x\n",
    "average_age_with_child = round(total_age / total_with_childs, 2)\n",
    "print(\"The average age for someone who has at least one child is \" + str(average_age_with_child))\n",
    "\n"
   ]
  },
  {
   "cell_type": "code",
   "execution_count": null,
   "metadata": {},
   "outputs": [],
   "source": []
  }
 ],
 "metadata": {
  "kernelspec": {
   "display_name": "Python 3",
   "language": "python",
   "name": "python3"
  },
  "language_info": {
   "codemirror_mode": {
    "name": "ipython",
    "version": 3
   },
   "file_extension": ".py",
   "mimetype": "text/x-python",
   "name": "python",
   "nbconvert_exporter": "python",
   "pygments_lexer": "ipython3",
   "version": "3.8.5"
  }
 },
 "nbformat": 4,
 "nbformat_minor": 4
}
